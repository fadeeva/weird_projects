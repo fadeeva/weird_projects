{
 "cells": [
  {
   "cell_type": "markdown",
   "metadata": {},
   "source": [
    "# 0 day"
   ]
  },
  {
   "cell_type": "code",
   "execution_count": 1,
   "metadata": {},
   "outputs": [],
   "source": [
    "import pandas as pd\n",
    "import numpy as np\n",
    "\n",
    "import matplotlib.pyplot as plt\n",
    "import seaborn as sns\n",
    "\n",
    "jtplot.style(figsize=(15, 9))"
   ]
  },
  {
   "cell_type": "code",
   "execution_count": 65,
   "metadata": {},
   "outputs": [],
   "source": [
    "class HomoSapiens:\n",
    "    _STATUS = [\n",
    "        'ALIVE',\n",
    "        'DEAD'\n",
    "    ]\n",
    "    \n",
    "    def __init__(self):\n",
    "        self.coords = (np.random.randint(0, 101), np.random.randint(0, 101))\n",
    "        self.health = 100\n",
    "        self.current_status = self._STATUS[0]\n",
    "    \n",
    "    def get_position(self):\n",
    "        return self.coords\n",
    "    \n",
    "    def set_position(self, new_coords):\n",
    "        if self.am_i_alive():\n",
    "            self.coords = new_coords\n",
    "    \n",
    "    def lost_health(self):\n",
    "        self.health -= np.random.randint(0, 100)\n",
    "        \n",
    "    def show_health(self):\n",
    "        return self.health\n",
    "    \n",
    "    def am_i_alive(self)->bool:\n",
    "        return self.current_status == self._STATUS[0]\n",
    "    \n",
    "    def dead(self):\n",
    "        self.current_status = self._STATUS[1]\n",
    "        \n",
    "    def nothing(self):\n",
    "        pass\n",
    "\n",
    "\n",
    "class Human(HomoSapiens):\n",
    "    _STATE = {\n",
    "        'Dead': 0.1,\n",
    "        'Bitten': 0.3,\n",
    "        'Lost Health': 0.3,\n",
    "        'Nothing': 0.3\n",
    "    }\n",
    "    \n",
    "    def __init__(self):\n",
    "        super().__init__()\n",
    "        self._HEALTH = {\n",
    "            'Dead': self.dead,\n",
    "            'Bitten': self.nothing, # self.reborn_to_a_zombie,\n",
    "            'Lost Health': self.lost_health,\n",
    "            'Nothing': self.nothing,\n",
    "        }\n",
    "    \n",
    "    def reborn_to_a_zombie(self):\n",
    "        self.__class__ = Zombie\n",
    "    \n",
    "    def collision(self):\n",
    "        self._HEALTH[np.random.choice(list(self._STATE.keys()), p=list(self._STATE.values()))]()\n",
    "\n",
    "\n",
    "class Zombie(HomoSapiens):\n",
    "    _STATE = {\n",
    "        'Dead': 0.1,\n",
    "        'Bit': 0.3,\n",
    "        'Ate': 0.2,\n",
    "        'Lost Health': 0.2,\n",
    "        'Nothing': 0.2\n",
    "    }\n",
    "    \n",
    "    def __init__(self):\n",
    "        super().__init__()\n",
    "        self._HEALTH = {\n",
    "            'Dead': self.dead,\n",
    "            'Bit': self.nothing,\n",
    "            'Ate': self.nothing,\n",
    "            'Lost Health': self.lost_health,\n",
    "            'Nothing': self.nothing,\n",
    "        }\n",
    "        \n",
    "    def collision(self):\n",
    "        self._HEALTH[np.random.choice(list(self._STATE.keys()), p=list(self._STATE.values()))]()\n",
    "    \n",
    "    \n",
    "        \n"
   ]
  },
  {
   "cell_type": "code",
   "execution_count": 68,
   "metadata": {},
   "outputs": [
    {
     "name": "stdout",
     "output_type": "stream",
     "text": [
      "ALIVE\n",
      "ALIVE\n"
     ]
    }
   ],
   "source": [
    "h = Human()\n",
    "print(h.current_status)"
   ]
  },
  {
   "cell_type": "code",
   "execution_count": 69,
   "metadata": {},
   "outputs": [
    {
     "name": "stdout",
     "output_type": "stream",
     "text": [
      "ALIVE\n",
      "ALIVE\n",
      "ALIVE\n",
      "ALIVE\n",
      "DEAD\n",
      "DEAD\n",
      "DEAD\n",
      "DEAD\n",
      "DEAD\n",
      "DEAD\n"
     ]
    }
   ],
   "source": [
    "for _ in range(10):\n",
    "    h.collision()\n",
    "    print(h.current_status)"
   ]
  },
  {
   "cell_type": "code",
   "execution_count": 12,
   "metadata": {},
   "outputs": [],
   "source": [
    "class ZombieApocalypse():\n",
    "    def __init__(self, humans=100, zombies=10):\n",
    "        self.humans = self.create(Human, humans)\n",
    "        self.zombies = self.create(Zombie, zombies)\n",
    "        \n",
    "    def create(self, class_name, amount):    \n",
    "        return [class_name() for _ in range(amount)]  \n",
    "    \n",
    "    def show_info(self):\n",
    "        print(f'HUMANS: {len(self.humans)}, ZOMBIES: {len(self.zombies)}')\n",
    "    \n",
    "    def collision(self):\n",
    "        r = {'Human': None, 'Zombie': None}\n",
    "        r['Human'] = np.random.choice(self.humans)\n",
    "        if isinstance(h, Human):\n",
    "            r['Human'].collision()\n",
    "        r['Zombie'] = np.random.choice(self.zombies)\n",
    "        r['Zombie'].collision()\n",
    "\n",
    "        self.check_collision(r)\n",
    "    \n",
    "    def check_collision(self, pair):\n",
    "        print(pair['Human'].current_status, pair['Zombie'].current_status)\n",
    "    \n",
    "    def visualize(self):\n",
    "        h_coords = {'x': [], 'y': []}\n",
    "        z_coords = {'x': [], 'y': []}\n",
    "        \n",
    "        for h, z in zip(self.humans, self.zombies):\n",
    "            h_coords['x'].append(h.get_position()[0])\n",
    "            h_coords['y'].append(h.get_position()[1])\n",
    "            z_coords['x'].append(z.get_position()[0])\n",
    "            z_coords['y'].append(z.get_position()[1])\n",
    "        \n",
    "        fig, ax = plt.subplots()\n",
    "        ax.scatter(h_coords['x'], h_coords['y'], c='pink')\n",
    "        ax.scatter(z_coords['x'], z_coords['y'], c='g')\n",
    "        "
   ]
  },
  {
   "cell_type": "code",
   "execution_count": 23,
   "metadata": {},
   "outputs": [
    {
     "name": "stdout",
     "output_type": "stream",
     "text": [
      "ALIVE ALIVE\n"
     ]
    }
   ],
   "source": [
    "za = ZombieApocalypse(25, 5)\n",
    "# za.visualize()\n",
    "za.collision()"
   ]
  },
  {
   "cell_type": "code",
   "execution_count": 24,
   "metadata": {},
   "outputs": [
    {
     "name": "stdout",
     "output_type": "stream",
     "text": [
      "ALIVE ALIVE\n",
      "0 None\n",
      "ALIVE ALIVE\n",
      "1 None\n",
      "ALIVE ALIVE\n",
      "2 None\n",
      "ALIVE ALIVE\n",
      "3 None\n",
      "ALIVE ALIVE\n",
      "4 None\n",
      "ALIVE ALIVE\n",
      "5 None\n",
      "ALIVE ALIVE\n",
      "6 None\n",
      "ALIVE ALIVE\n",
      "7 None\n",
      "ALIVE ALIVE\n",
      "8 None\n",
      "ALIVE ALIVE\n",
      "9 None\n"
     ]
    }
   ],
   "source": [
    "for i in range(10):\n",
    "    print(i, za.collision())"
   ]
  },
  {
   "cell_type": "code",
   "execution_count": null,
   "metadata": {},
   "outputs": [],
   "source": []
  },
  {
   "cell_type": "code",
   "execution_count": null,
   "metadata": {},
   "outputs": [],
   "source": []
  },
  {
   "cell_type": "code",
   "execution_count": null,
   "metadata": {},
   "outputs": [],
   "source": []
  },
  {
   "cell_type": "code",
   "execution_count": null,
   "metadata": {},
   "outputs": [],
   "source": []
  },
  {
   "cell_type": "code",
   "execution_count": 25,
   "metadata": {},
   "outputs": [],
   "source": [
    "humans = [Human() for i in range(10)]\n",
    "zombies = [Zombie() for i in range(10)]"
   ]
  },
  {
   "cell_type": "code",
   "execution_count": 26,
   "metadata": {},
   "outputs": [],
   "source": [
    "h_coords = {'x': [], 'y': []}\n",
    "z_coords = {'x': [], 'y': []}\n",
    "for h, z in zip(humans, zombies):\n",
    "    h_coords['x'].append(h.get_position()[0])\n",
    "    h_coords['y'].append(h.get_position()[1])\n",
    "    z_coords['x'].append(z.get_position()[0])\n",
    "    z_coords['y'].append(z.get_position()[1])"
   ]
  },
  {
   "cell_type": "code",
   "execution_count": 29,
   "metadata": {},
   "outputs": [
    {
     "data": {
      "text/plain": [
       "<matplotlib.collections.PathCollection at 0x3dc5e20>"
      ]
     },
     "execution_count": 29,
     "metadata": {},
     "output_type": "execute_result"
    },
    {
     "data": {
      "image/png": "[encoded data removed]",
      "text/plain": [
       "<Figure size 864x518.4 with 1 Axes>"
      ]
     },
     "metadata": {},
     "output_type": "display_data"
    }
   ],
   "source": [
    "fig, ax = plt.subplots()\n",
    "ax.scatter(h_coords['x'], h_coords['y'], c='pink')\n",
    "ax.scatter(z_coords['x'], z_coords['y'], c='g')"
   ]
  },
  {
   "cell_type": "code",
   "execution_count": null,
   "metadata": {},
   "outputs": [],
   "source": []
  }
 ],
 "metadata": {
  "kernelspec": {
   "display_name": "Python 3",
   "language": "python",
   "name": "python3"
  },
  "language_info": {
   "codemirror_mode": {
    "name": "ipython",
    "version": 3
   },
   "file_extension": ".py",
   "mimetype": "text/x-python",
   "name": "python",
   "nbconvert_exporter": "python",
   "pygments_lexer": "ipython3",
   "version": "3.8.5"
  }
 },
 "nbformat": 4,
 "nbformat_minor": 2
}
