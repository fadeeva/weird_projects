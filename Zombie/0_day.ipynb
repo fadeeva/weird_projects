{
 "cells": [
  {
   "cell_type": "markdown",
   "metadata": {},
   "source": [
    "# 0 day"
   ]
  },
  {
   "cell_type": "code",
   "execution_count": 9,
   "metadata": {},
   "outputs": [],
   "source": [
    "import pandas as pd\n",
    "import numpy as np\n",
    "\n",
    "import matplotlib.pyplot as plt\n",
    "import seaborn as sns\n",
    "\n",
    "jtplot.style(figsize=(15, 9))"
   ]
  },
  {
   "cell_type": "code",
   "execution_count": 2,
   "metadata": {},
   "outputs": [],
   "source": [
    "class HomoSapiens:\n",
    "    _STATUS = [\n",
    "        'ALIVE',\n",
    "        'DEAD'\n",
    "    ]\n",
    "    \n",
    "    def __init__(self):\n",
    "        self.coords = (np.random.randint(0, 101), np.random.randint(0, 101))\n",
    "        self.health = 100\n",
    "        self.current_status = self._STATUS[0]\n",
    "    \n",
    "    def get_position(self):\n",
    "        return self.coords\n",
    "    \n",
    "    def set_position(self, new_coords):\n",
    "        if self.am_i_alive():\n",
    "            self.coords = new_coords\n",
    "    \n",
    "    def lost_health(self):\n",
    "        self.health -= np.random.randint(0, 100)\n",
    "        \n",
    "    def show_health(self):\n",
    "        return self.health\n",
    "    \n",
    "    def am_i_alive(self)->bool:\n",
    "        return self.current_status == self._STATUS[0]\n",
    "    \n",
    "    def dead(self):\n",
    "        self.current_status = self._STATUS[1]\n",
    "        \n",
    "    def nothing(self):\n",
    "        pass\n",
    "\n",
    "\n",
    "class Human(HomoSapiens):\n",
    "    def __init__(self):\n",
    "        super().__init__()\n",
    "        \n",
    "    def reborn_to_a_zombie(self):\n",
    "        self.__class__ = Zombie\n",
    "    \n",
    "    def collision(self):\n",
    "        if not self.am_i_alive(): return\n",
    "        self._STATE = {\n",
    "            'Dead': 0.1,\n",
    "            'Bitten': 0.3,\n",
    "            'Lost Health': 0.3,\n",
    "            'Nothing': 0.3\n",
    "        }\n",
    "        self._HEALTH = {\n",
    "            'Dead': self.dead,\n",
    "            'Bitten': self.reborn_to_a_zombie,\n",
    "            'Lost Health': self.lost_health,\n",
    "            'Nothing': self.nothing,\n",
    "        }\n",
    "        self._HEALTH[np.random.choice(list(self._STATE.keys()), p=list(self._STATE.values()))]()\n",
    "\n",
    "\n",
    "class Zombie(HomoSapiens):\n",
    "    def __init__(self):\n",
    "        super().__init__()\n",
    "        \n",
    "    def collision(self):\n",
    "        if not self.am_i_alive(): return\n",
    "        self._STATE = {\n",
    "            'Dead': 0.1,\n",
    "            'Bit': 0.3,\n",
    "            'Ate': 0.2,\n",
    "            'Lost Health': 0.2,\n",
    "            'Nothing': 0.2\n",
    "        }\n",
    "        self._HEALTH = {\n",
    "            'Dead': self.dead,\n",
    "            'Bit': self.nothing,\n",
    "            'Ate': self.nothing,\n",
    "            'Lost Health': self.lost_health,\n",
    "            'Nothing': self.nothing,\n",
    "        }\n",
    "        self._HEALTH[np.random.choice(list(self._STATE.keys()), p=list(self._STATE.values()))]()\n",
    "    \n"
   ]
  },
  {
   "cell_type": "code",
   "execution_count": 3,
   "metadata": {},
   "outputs": [
    {
     "name": "stdout",
     "output_type": "stream",
     "text": [
      "<class '__main__.Human'>\n",
      "<class '__main__.Zombie'>\n"
     ]
    }
   ],
   "source": [
    "h = Human()\n",
    "print(type(h))\n",
    "h.reborn_to_a_zombie()\n",
    "print(type(h))"
   ]
  },
  {
   "cell_type": "code",
   "execution_count": 4,
   "metadata": {},
   "outputs": [
    {
     "name": "stdout",
     "output_type": "stream",
     "text": [
      "ALIVE <class '__main__.Human'>\n",
      "DEAD <class '__main__.Human'>\n",
      "DEAD <class '__main__.Human'>\n",
      "DEAD <class '__main__.Human'>\n",
      "DEAD <class '__main__.Human'>\n",
      "DEAD <class '__main__.Human'>\n",
      "DEAD <class '__main__.Human'>\n",
      "DEAD <class '__main__.Human'>\n",
      "DEAD <class '__main__.Human'>\n",
      "DEAD <class '__main__.Human'>\n"
     ]
    }
   ],
   "source": [
    "h = Human()\n",
    "for _ in range(10):\n",
    "    h.collision()\n",
    "    print(h.current_status, type(h))"
   ]
  },
  {
   "cell_type": "code",
   "execution_count": 17,
   "metadata": {},
   "outputs": [],
   "source": [
    "class ZombieApocalypse():\n",
    "    def __init__(self, humans=100, zombies=10):\n",
    "        self.humans = self.create(Human, humans)\n",
    "        self.zombies = self.create(Zombie, zombies)\n",
    "        \n",
    "    def create(self, class_name, amount):    \n",
    "        return [class_name() for _ in range(amount)]  \n",
    "    \n",
    "    def show_info(self):\n",
    "        print(f'HUMANS: {len(self.humans)}, ZOMBIES: {len(self.zombies)}')\n",
    "    \n",
    "    def collision(self):\n",
    "        r = {'Human': None, 'Zombie': None}\n",
    "        if self.humans and self.zombies:\n",
    "            r['Human'] = np.random.choice(self.humans)\n",
    "            r['Human'].collision()\n",
    "            r['Zombie'] = np.random.choice(self.zombies)\n",
    "            r['Zombie'].collision()\n",
    "            return self.check_collision(r)\n",
    "        \n",
    "        return 'Run out of zombies or humans'\n",
    "    \n",
    "    def check_collision(self, pair):\n",
    "        h_status, h_id = pair['Human'].current_status, self.humans.index(pair['Human'])\n",
    "        z_status, z_id = pair['Zombie'].current_status, self.zombies.index(pair['Zombie'])\n",
    "        \n",
    "        if not pair['Zombie'].am_i_alive():\n",
    "            self.zombies.remove(pair['Zombie'])\n",
    "        if not pair['Human'].am_i_alive():\n",
    "            self.humans.remove(pair['Human'])\n",
    "        \n",
    "        if isinstance(pair['Human'], Zombie):\n",
    "            self.humans.remove(pair['Human'])\n",
    "            self.zombies.append(pair['Human'])\n",
    "        \n",
    "        return f\"HUMAN: #{h_id}|{h_status}|(amnt:{len(self.humans)}) / ZOMBIE: #{z_id}|{z_status}|(amnt:{len(self.zombies)})\"\n",
    "    \n",
    "    def stat(self):\n",
    "        print(f'Left {len(self.humans)} Humans.')\n",
    "        print(f'Left {len(self.zombies)} Zombies.')\n",
    "    \n",
    "    def visualize(self):\n",
    "        h_coords = {'x': [], 'y': []}\n",
    "        z_coords = {'x': [], 'y': []}\n",
    "        \n",
    "        for h, z in zip(self.humans, self.zombies):\n",
    "            h_coords['x'].append(h.get_position()[0])\n",
    "            h_coords['y'].append(h.get_position()[1])\n",
    "            z_coords['x'].append(z.get_position()[0])\n",
    "            z_coords['y'].append(z.get_position()[1])\n",
    "        \n",
    "        fig, ax = plt.subplots()\n",
    "        ax.scatter(h_coords['x'], h_coords['y'], c='pink', label='Humans')\n",
    "        ax.scatter(z_coords['x'], z_coords['y'], c='g', label='Zombies')\n",
    "        ax.legend()\n",
    "        "
   ]
  },
  {
   "cell_type": "code",
   "execution_count": 18,
   "metadata": {},
   "outputs": [
    {
     "name": "stdout",
     "output_type": "stream",
     "text": [
      "Left 25 Humans.\n",
      "Left 5 Zombies.\n"
     ]
    },
    {
     "data": {
      "image/png": "[encoded data removed]",
      "text/plain": [
       "<Figure size 864x518.4 with 1 Axes>"
      ]
     },
     "metadata": {},
     "output_type": "display_data"
    }
   ],
   "source": [
    "za = ZombieApocalypse(25, 5)\n",
    "za.stat()\n",
    "za.visualize() # before collisions"
   ]
  },
  {
   "cell_type": "code",
   "execution_count": 20,
   "metadata": {},
   "outputs": [
    {
     "name": "stdout",
     "output_type": "stream",
     "text": [
      "Left 2 Humans.\n",
      "Left 16 Zombies.\n"
     ]
    },
    {
     "data": {
      "image/png": "[encoded data removed]",
      "text/plain": [
       "<Figure size 864x518.4 with 1 Axes>"
      ]
     },
     "metadata": {},
     "output_type": "display_data"
    }
   ],
   "source": [
    "za.stat()\n",
    "za.visualize() # after collisions"
   ]
  },
  {
   "cell_type": "code",
   "execution_count": 19,
   "metadata": {},
   "outputs": [
    {
     "name": "stdout",
     "output_type": "stream",
     "text": [
      "0 HUMAN: #11|ALIVE|(amnt:25) / ZOMBIE: #0|ALIVE|(amnt:5)\n",
      "1 HUMAN: #24|ALIVE|(amnt:25) / ZOMBIE: #2|ALIVE|(amnt:5)\n",
      "2 HUMAN: #2|DEAD|(amnt:24) / ZOMBIE: #4|ALIVE|(amnt:5)\n",
      "3 HUMAN: #3|ALIVE|(amnt:23) / ZOMBIE: #1|ALIVE|(amnt:6)\n",
      "4 HUMAN: #21|ALIVE|(amnt:23) / ZOMBIE: #0|ALIVE|(amnt:6)\n",
      "5 HUMAN: #16|ALIVE|(amnt:23) / ZOMBIE: #3|ALIVE|(amnt:6)\n",
      "6 HUMAN: #20|ALIVE|(amnt:23) / ZOMBIE: #1|ALIVE|(amnt:6)\n",
      "7 HUMAN: #17|ALIVE|(amnt:22) / ZOMBIE: #3|ALIVE|(amnt:7)\n",
      "8 HUMAN: #7|ALIVE|(amnt:21) / ZOMBIE: #6|ALIVE|(amnt:8)\n",
      "9 HUMAN: #11|ALIVE|(amnt:21) / ZOMBIE: #6|DEAD|(amnt:7)\n",
      "10 HUMAN: #1|ALIVE|(amnt:21) / ZOMBIE: #6|ALIVE|(amnt:7)\n",
      "11 HUMAN: #4|ALIVE|(amnt:20) / ZOMBIE: #0|ALIVE|(amnt:8)\n",
      "12 HUMAN: #4|ALIVE|(amnt:20) / ZOMBIE: #6|ALIVE|(amnt:8)\n",
      "13 HUMAN: #5|ALIVE|(amnt:19) / ZOMBIE: #5|ALIVE|(amnt:9)\n",
      "14 HUMAN: #17|ALIVE|(amnt:19) / ZOMBIE: #3|ALIVE|(amnt:9)\n",
      "15 HUMAN: #6|ALIVE|(amnt:18) / ZOMBIE: #5|ALIVE|(amnt:10)\n",
      "16 HUMAN: #10|ALIVE|(amnt:17) / ZOMBIE: #2|ALIVE|(amnt:11)\n",
      "17 HUMAN: #0|DEAD|(amnt:16) / ZOMBIE: #0|ALIVE|(amnt:11)\n",
      "18 HUMAN: #14|ALIVE|(amnt:16) / ZOMBIE: #0|ALIVE|(amnt:11)\n",
      "19 HUMAN: #6|ALIVE|(amnt:16) / ZOMBIE: #0|ALIVE|(amnt:11)\n",
      "20 HUMAN: #0|ALIVE|(amnt:16) / ZOMBIE: #10|DEAD|(amnt:10)\n",
      "21 HUMAN: #13|DEAD|(amnt:15) / ZOMBIE: #4|ALIVE|(amnt:10)\n",
      "22 HUMAN: #6|DEAD|(amnt:14) / ZOMBIE: #4|ALIVE|(amnt:10)\n",
      "23 HUMAN: #7|ALIVE|(amnt:13) / ZOMBIE: #5|ALIVE|(amnt:11)\n",
      "24 HUMAN: #3|ALIVE|(amnt:12) / ZOMBIE: #3|ALIVE|(amnt:12)\n",
      "25 HUMAN: #9|DEAD|(amnt:11) / ZOMBIE: #1|ALIVE|(amnt:12)\n",
      "26 HUMAN: #10|ALIVE|(amnt:10) / ZOMBIE: #4|ALIVE|(amnt:13)\n",
      "27 HUMAN: #5|ALIVE|(amnt:10) / ZOMBIE: #1|ALIVE|(amnt:13)\n",
      "28 HUMAN: #0|ALIVE|(amnt:10) / ZOMBIE: #10|ALIVE|(amnt:13)\n",
      "29 HUMAN: #9|ALIVE|(amnt:9) / ZOMBIE: #12|ALIVE|(amnt:14)\n",
      "30 HUMAN: #4|ALIVE|(amnt:9) / ZOMBIE: #2|ALIVE|(amnt:14)\n",
      "31 HUMAN: #6|ALIVE|(amnt:9) / ZOMBIE: #2|ALIVE|(amnt:14)\n",
      "32 HUMAN: #3|ALIVE|(amnt:8) / ZOMBIE: #0|ALIVE|(amnt:15)\n",
      "33 HUMAN: #1|ALIVE|(amnt:8) / ZOMBIE: #10|ALIVE|(amnt:15)\n",
      "34 HUMAN: #4|DEAD|(amnt:7) / ZOMBIE: #7|ALIVE|(amnt:15)\n",
      "35 HUMAN: #6|ALIVE|(amnt:7) / ZOMBIE: #1|DEAD|(amnt:14)\n",
      "36 HUMAN: #4|ALIVE|(amnt:7) / ZOMBIE: #9|ALIVE|(amnt:14)\n",
      "37 HUMAN: #0|ALIVE|(amnt:6) / ZOMBIE: #6|ALIVE|(amnt:15)\n",
      "38 HUMAN: #1|ALIVE|(amnt:5) / ZOMBIE: #9|ALIVE|(amnt:16)\n",
      "39 HUMAN: #4|DEAD|(amnt:4) / ZOMBIE: #9|ALIVE|(amnt:16)\n",
      "40 HUMAN: #0|ALIVE|(amnt:4) / ZOMBIE: #8|ALIVE|(amnt:16)\n",
      "41 HUMAN: #1|ALIVE|(amnt:4) / ZOMBIE: #2|DEAD|(amnt:15)\n",
      "42 HUMAN: #0|ALIVE|(amnt:4) / ZOMBIE: #13|ALIVE|(amnt:15)\n",
      "43 HUMAN: #0|ALIVE|(amnt:3) / ZOMBIE: #5|ALIVE|(amnt:16)\n",
      "44 HUMAN: #2|ALIVE|(amnt:2) / ZOMBIE: #10|ALIVE|(amnt:17)\n",
      "45 HUMAN: #0|ALIVE|(amnt:2) / ZOMBIE: #6|ALIVE|(amnt:17)\n",
      "46 HUMAN: #1|ALIVE|(amnt:2) / ZOMBIE: #1|ALIVE|(amnt:17)\n",
      "47 HUMAN: #0|ALIVE|(amnt:2) / ZOMBIE: #12|ALIVE|(amnt:17)\n",
      "48 HUMAN: #0|ALIVE|(amnt:2) / ZOMBIE: #15|ALIVE|(amnt:17)\n",
      "49 HUMAN: #0|ALIVE|(amnt:2) / ZOMBIE: #14|DEAD|(amnt:16)\n"
     ]
    }
   ],
   "source": [
    "for i in range(50):\n",
    "    print(i, za.collision())"
   ]
  },
  {
   "cell_type": "code",
   "execution_count": null,
   "metadata": {},
   "outputs": [],
   "source": []
  },
  {
   "cell_type": "code",
   "execution_count": null,
   "metadata": {},
   "outputs": [],
   "source": []
  },
  {
   "cell_type": "code",
   "execution_count": null,
   "metadata": {},
   "outputs": [],
   "source": []
  },
  {
   "cell_type": "code",
   "execution_count": null,
   "metadata": {},
   "outputs": [],
   "source": []
  },
  {
   "cell_type": "code",
   "execution_count": 25,
   "metadata": {},
   "outputs": [],
   "source": [
    "humans = [Human() for i in range(10)]\n",
    "zombies = [Zombie() for i in range(10)]"
   ]
  },
  {
   "cell_type": "code",
   "execution_count": 26,
   "metadata": {},
   "outputs": [],
   "source": [
    "h_coords = {'x': [], 'y': []}\n",
    "z_coords = {'x': [], 'y': []}\n",
    "for h, z in zip(humans, zombies):\n",
    "    h_coords['x'].append(h.get_position()[0])\n",
    "    h_coords['y'].append(h.get_position()[1])\n",
    "    z_coords['x'].append(z.get_position()[0])\n",
    "    z_coords['y'].append(z.get_position()[1])"
   ]
  },
  {
   "cell_type": "code",
   "execution_count": 29,
   "metadata": {},
   "outputs": [
    {
     "data": {
      "text/plain": [
       "<matplotlib.collections.PathCollection at 0x3dc5e20>"
      ]
     },
     "execution_count": 29,
     "metadata": {},
     "output_type": "execute_result"
    },
    {
     "data": {
      "image/png": "[encoded data removed]",
      "text/plain": [
       "<Figure size 864x518.4 with 1 Axes>"
      ]
     },
     "metadata": {},
     "output_type": "display_data"
    }
   ],
   "source": [
    "fig, ax = plt.subplots()\n",
    "ax.scatter(h_coords['x'], h_coords['y'], c='pink')\n",
    "ax.scatter(z_coords['x'], z_coords['y'], c='g')"
   ]
  },
  {
   "cell_type": "code",
   "execution_count": null,
   "metadata": {},
   "outputs": [],
   "source": []
  }
 ],
 "metadata": {
  "kernelspec": {
   "display_name": "Python 3",
   "language": "python",
   "name": "python3"
  },
  "language_info": {
   "codemirror_mode": {
    "name": "ipython",
    "version": 3
   },
   "file_extension": ".py",
   "mimetype": "text/x-python",
   "name": "python",
   "nbconvert_exporter": "python",
   "pygments_lexer": "ipython3",
   "version": "3.8.5"
  }
 },
 "nbformat": 4,
 "nbformat_minor": 2
}
