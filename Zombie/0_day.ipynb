{
 "cells": [
  {
   "cell_type": "markdown",
   "metadata": {},
   "source": [
    "# 0 day"
   ]
  },
  {
   "cell_type": "code",
   "execution_count": 1,
   "metadata": {},
   "outputs": [],
   "source": [
    "import pandas as pd\n",
    "import numpy as np\n",
    "\n",
    "import matplotlib.pyplot as plt\n",
    "import seaborn as sns\n",
    "\n",
    "jtplot.style(figsize=(15, 9))"
   ]
  },
  {
   "cell_type": "code",
   "execution_count": 40,
   "metadata": {},
   "outputs": [],
   "source": [
    "class HomoSapiens:\n",
    "    def __init__(self, coords):\n",
    "        self.coords = coords\n",
    "    \n",
    "    def get_position(self):\n",
    "        return self.coords\n",
    "    \n",
    "    def set_position(self, new_coords):\n",
    "        self.coords = new_coords\n"
   ]
  },
  {
   "cell_type": "code",
   "execution_count": 41,
   "metadata": {},
   "outputs": [],
   "source": [
    "class Human(HomoSapiens):\n",
    "    def __init__(self, coords):\n",
    "        super().__init__(coords)\n",
    "        self.health = 100\n",
    "    \n",
    "    def collision(self):\n",
    "        self.health -= np.random.randint(0, 101)\n",
    "    \n",
    "    def reborn_to_a_zombie(self):\n",
    "        self.__class__ = Zombie\n",
    "    \n",
    "    def death(self):\n",
    "        pass\n"
   ]
  },
  {
   "cell_type": "code",
   "execution_count": 44,
   "metadata": {},
   "outputs": [],
   "source": [
    "class Zombie(HomoSapiens):\n",
    "    def __init__(self, coords):\n",
    "        super().__init__(coords)\n"
   ]
  },
  {
   "cell_type": "code",
   "execution_count": 43,
   "metadata": {},
   "outputs": [
    {
     "data": {
      "text/plain": [
       "((86, 90), (69, 83))"
      ]
     },
     "execution_count": 43,
     "metadata": {},
     "output_type": "execute_result"
    }
   ],
   "source": [
    "h = Human((np.random.randint(0, 101), np.random.randint(0, 101)))\n",
    "z = Zombie((np.random.randint(0, 101), np.random.randint(0, 101)))\n",
    "\n",
    "h.get_position(), z.get_position()"
   ]
  },
  {
   "cell_type": "code",
   "execution_count": 33,
   "metadata": {},
   "outputs": [],
   "source": [
    "h.reborn_to_a_zombie()"
   ]
  },
  {
   "cell_type": "code",
   "execution_count": 34,
   "metadata": {},
   "outputs": [
    {
     "data": {
      "text/plain": [
       "<__main__.Zombie at 0xbb57ef8>"
      ]
     },
     "execution_count": 34,
     "metadata": {},
     "output_type": "execute_result"
    }
   ],
   "source": [
    "h"
   ]
  },
  {
   "cell_type": "code",
   "execution_count": 8,
   "metadata": {},
   "outputs": [
    {
     "data": {
      "text/plain": [
       "<__main__.Zombie at 0xbad8a00>"
      ]
     },
     "execution_count": 8,
     "metadata": {},
     "output_type": "execute_result"
    }
   ],
   "source": [
    "z"
   ]
  },
  {
   "cell_type": "code",
   "execution_count": 52,
   "metadata": {},
   "outputs": [],
   "source": [
    "humans = [Human((np.random.randint(0, 101), np.random.randint(0, 101))) for i in range(10)]\n",
    "zombies = [Zombie((np.random.randint(0, 101), np.random.randint(0, 101))) for i in range(10)]"
   ]
  },
  {
   "cell_type": "code",
   "execution_count": 62,
   "metadata": {},
   "outputs": [],
   "source": [
    "h_coords = {'x': [], 'y': []}\n",
    "z_coords = {'x': [], 'y': []}\n",
    "for h, z in zip(humans, zombies):\n",
    "    h_coords['x'].append(h.get_position()[0])\n",
    "    h_coords['y'].append(h.get_position()[1])\n",
    "    z_coords['x'].append(z.get_position()[0])\n",
    "    z_coords['y'].append(z.get_position()[1])"
   ]
  },
  {
   "cell_type": "code",
   "execution_count": 63,
   "metadata": {},
   "outputs": [
    {
     "data": {
      "text/plain": [
       "<matplotlib.collections.PathCollection at 0xbbaf130>"
      ]
     },
     "execution_count": 63,
     "metadata": {},
     "output_type": "execute_result"
    },
    {
     "data": {
      "image/png": "[encoded data removed]",
      "text/plain": [
       "<Figure size 432x288 with 1 Axes>"
      ]
     },
     "metadata": {
      "needs_background": "dark"
     },
     "output_type": "display_data"
    }
   ],
   "source": [
    "fig, ax = plt.subplots()\n",
    "ax.scatter(h_coords['x'], h_coords['y'], c='pink')\n",
    "ax.scatter(z_coords['x'], z_coords['y'], c='g')"
   ]
  },
  {
   "cell_type": "code",
   "execution_count": null,
   "metadata": {},
   "outputs": [],
   "source": []
  }
 ],
 "metadata": {
  "kernelspec": {
   "display_name": "Python 3",
   "language": "python",
   "name": "python3"
  },
  "language_info": {
   "codemirror_mode": {
    "name": "ipython",
    "version": 3
   },
   "file_extension": ".py",
   "mimetype": "text/x-python",
   "name": "python",
   "nbconvert_exporter": "python",
   "pygments_lexer": "ipython3",
   "version": "3.8.5"
  }
 },
 "nbformat": 4,
 "nbformat_minor": 2
}
