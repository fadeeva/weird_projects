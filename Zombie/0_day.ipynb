{
 "cells": [
  {
   "cell_type": "markdown",
   "metadata": {},
   "source": [
    "# 0 day"
   ]
  },
  {
   "cell_type": "code",
   "execution_count": 28,
   "metadata": {},
   "outputs": [],
   "source": [
    "import pandas as pd\n",
    "import numpy as np\n",
    "\n",
    "import matplotlib.pyplot as plt\n",
    "import seaborn as sns\n",
    "\n",
    "jtplot.style(figsize=(15, 9))"
   ]
  },
  {
   "cell_type": "code",
   "execution_count": 13,
   "metadata": {},
   "outputs": [],
   "source": [
    "class HomoSapiens:\n",
    "    def __init__(self):\n",
    "        self.coords = (np.random.randint(0, 101), np.random.randint(0, 101))\n",
    "    \n",
    "    def get_position(self):\n",
    "        return self.coords\n",
    "    \n",
    "    def set_position(self, new_coords):\n",
    "        self.coords = new_coords\n",
    "\n",
    "\n",
    "class Human(HomoSapiens):\n",
    "    def __init__(self):\n",
    "        super().__init__()\n",
    "        self.health = 100\n",
    "    \n",
    "    def collision(self):\n",
    "        self.health -= np.random.randint(0, 101)\n",
    "    \n",
    "    def reborn_to_a_zombie(self):\n",
    "        self.__class__ = Zombie\n",
    "    \n",
    "    def death(self):\n",
    "        pass\n",
    "    \n",
    "\n",
    "class Zombie(HomoSapiens):\n",
    "    def __init__(self):\n",
    "        super().__init__()\n",
    "        \n"
   ]
  },
  {
   "cell_type": "code",
   "execution_count": 30,
   "metadata": {},
   "outputs": [],
   "source": [
    "class ZombieApocalypse():\n",
    "    def __init__(self, humans=100, zombies=10):\n",
    "        self.humans = self.create(Human, humans)\n",
    "        self.zombies = self.create(Zombie, zombies)\n",
    "        \n",
    "    def create(self, class_name, amount):    \n",
    "        return [class_name() for _ in range(amount)]  \n",
    "    \n",
    "    def show_info(self):\n",
    "        print(f'HUMANS: {len(self.humans)}, ZOMBIES: {len(self.zombies)}')\n",
    "    \n",
    "    def visualize(self):\n",
    "        h_coords = {'x': [], 'y': []}\n",
    "        z_coords = {'x': [], 'y': []}\n",
    "        \n",
    "        for h, z in zip(self.humans, self.zombies):\n",
    "            h_coords['x'].append(h.get_position()[0])\n",
    "            h_coords['y'].append(h.get_position()[1])\n",
    "            z_coords['x'].append(z.get_position()[0])\n",
    "            z_coords['y'].append(z.get_position()[1])\n",
    "        \n",
    "        fig, ax = plt.subplots()\n",
    "        ax.scatter(h_coords['x'], h_coords['y'], c='pink')\n",
    "        ax.scatter(z_coords['x'], z_coords['y'], c='g')\n",
    "        "
   ]
  },
  {
   "cell_type": "code",
   "execution_count": 31,
   "metadata": {},
   "outputs": [
    {
     "data": {
      "image/png": "[encoded data removed]",
      "text/plain": [
       "<Figure size 864x518.4 with 1 Axes>"
      ]
     },
     "metadata": {},
     "output_type": "display_data"
    }
   ],
   "source": [
    "za = ZombieApocalypse(20, 5)\n",
    "za.visualize()"
   ]
  },
  {
   "cell_type": "code",
   "execution_count": 21,
   "metadata": {},
   "outputs": [
    {
     "data": {
      "text/plain": [
       "((78, 15), (14, 90))"
      ]
     },
     "execution_count": 21,
     "metadata": {},
     "output_type": "execute_result"
    }
   ],
   "source": [
    "h = Human()\n",
    "z = Zombie()\n",
    "\n",
    "h.get_position(), z.get_position()"
   ]
  },
  {
   "cell_type": "code",
   "execution_count": 22,
   "metadata": {},
   "outputs": [],
   "source": [
    "h.reborn_to_a_zombie()"
   ]
  },
  {
   "cell_type": "code",
   "execution_count": 23,
   "metadata": {},
   "outputs": [
    {
     "data": {
      "text/plain": [
       "<__main__.Zombie at 0xba82b50>"
      ]
     },
     "execution_count": 23,
     "metadata": {},
     "output_type": "execute_result"
    }
   ],
   "source": [
    "h"
   ]
  },
  {
   "cell_type": "code",
   "execution_count": 24,
   "metadata": {},
   "outputs": [
    {
     "data": {
      "text/plain": [
       "<__main__.Zombie at 0xba82c40>"
      ]
     },
     "execution_count": 24,
     "metadata": {},
     "output_type": "execute_result"
    }
   ],
   "source": [
    "z"
   ]
  },
  {
   "cell_type": "code",
   "execution_count": 25,
   "metadata": {},
   "outputs": [],
   "source": [
    "humans = [Human() for i in range(10)]\n",
    "zombies = [Zombie() for i in range(10)]"
   ]
  },
  {
   "cell_type": "code",
   "execution_count": 26,
   "metadata": {},
   "outputs": [],
   "source": [
    "h_coords = {'x': [], 'y': []}\n",
    "z_coords = {'x': [], 'y': []}\n",
    "for h, z in zip(humans, zombies):\n",
    "    h_coords['x'].append(h.get_position()[0])\n",
    "    h_coords['y'].append(h.get_position()[1])\n",
    "    z_coords['x'].append(z.get_position()[0])\n",
    "    z_coords['y'].append(z.get_position()[1])"
   ]
  },
  {
   "cell_type": "code",
   "execution_count": 29,
   "metadata": {},
   "outputs": [
    {
     "data": {
      "text/plain": [
       "<matplotlib.collections.PathCollection at 0x3dc5e20>"
      ]
     },
     "execution_count": 29,
     "metadata": {},
     "output_type": "execute_result"
    },
    {
     "data": {
      "image/png": "[encoded data removed]",
      "text/plain": [
       "<Figure size 864x518.4 with 1 Axes>"
      ]
     },
     "metadata": {},
     "output_type": "display_data"
    }
   ],
   "source": [
    "fig, ax = plt.subplots()\n",
    "ax.scatter(h_coords['x'], h_coords['y'], c='pink')\n",
    "ax.scatter(z_coords['x'], z_coords['y'], c='g')"
   ]
  },
  {
   "cell_type": "code",
   "execution_count": null,
   "metadata": {},
   "outputs": [],
   "source": []
  }
 ],
 "metadata": {
  "kernelspec": {
   "display_name": "Python 3",
   "language": "python",
   "name": "python3"
  },
  "language_info": {
   "codemirror_mode": {
    "name": "ipython",
    "version": 3
   },
   "file_extension": ".py",
   "mimetype": "text/x-python",
   "name": "python",
   "nbconvert_exporter": "python",
   "pygments_lexer": "ipython3",
   "version": "3.8.5"
  }
 },
 "nbformat": 4,
 "nbformat_minor": 2
}
